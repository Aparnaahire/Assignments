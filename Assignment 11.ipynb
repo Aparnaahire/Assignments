{
 "cells": [
  {
   "cell_type": "markdown",
   "id": "355d5f4b",
   "metadata": {},
   "source": [
    "QUE 1) The assert statement is used to continue the execute if the given condition evaluates to True. If the assert condition          evaluates to False, then it raises the AssertionError exception with the specified error message."
   ]
  },
  {
   "cell_type": "code",
   "execution_count": 1,
   "id": "6ed25917",
   "metadata": {},
   "outputs": [
    {
     "name": "stdout",
     "output_type": "stream",
     "text": [
      "Collecting pyinputplus\n",
      "  Downloading PyInputPlus-0.2.12.tar.gz (20 kB)\n",
      "  Installing build dependencies: started\n",
      "  Installing build dependencies: finished with status 'done'\n",
      "  Getting requirements to build wheel: started\n",
      "  Getting requirements to build wheel: finished with status 'done'\n",
      "  Preparing metadata (pyproject.toml): started\n",
      "  Preparing metadata (pyproject.toml): finished with status 'done'\n",
      "Collecting pysimplevalidate>=0.2.7 (from pyinputplus)\n",
      "  Downloading PySimpleValidate-0.2.12.tar.gz (22 kB)\n",
      "  Installing build dependencies: started\n",
      "  Installing build dependencies: finished with status 'done'\n",
      "  Getting requirements to build wheel: started\n",
      "  Getting requirements to build wheel: finished with status 'done'\n",
      "  Preparing metadata (pyproject.toml): started\n",
      "  Preparing metadata (pyproject.toml): finished with status 'done'\n",
      "Collecting stdiomask>=0.0.3 (from pyinputplus)\n",
      "  Downloading stdiomask-0.0.6.tar.gz (3.6 kB)\n",
      "  Installing build dependencies: started\n",
      "  Installing build dependencies: finished with status 'done'\n",
      "  Getting requirements to build wheel: started\n",
      "  Getting requirements to build wheel: finished with status 'done'\n",
      "  Preparing metadata (pyproject.toml): started\n",
      "  Preparing metadata (pyproject.toml): finished with status 'done'\n",
      "Building wheels for collected packages: pyinputplus, pysimplevalidate, stdiomask\n",
      "  Building wheel for pyinputplus (pyproject.toml): started\n",
      "  Building wheel for pyinputplus (pyproject.toml): finished with status 'done'\n",
      "  Created wheel for pyinputplus: filename=PyInputPlus-0.2.12-py3-none-any.whl size=11322 sha256=95f254fe1738adcde76433e2b87c1398006b2d0deb0fb4b99d829a894e2c5dfa\n",
      "  Stored in directory: c:\\users\\hp\\appdata\\local\\pip\\cache\\wheels\\b9\\b4\\e7\\825446929f44b25d05f4df52bc4f7d211e5dec4c547126a098\n",
      "  Building wheel for pysimplevalidate (pyproject.toml): started\n",
      "  Building wheel for pysimplevalidate (pyproject.toml): finished with status 'done'\n",
      "  Created wheel for pysimplevalidate: filename=PySimpleValidate-0.2.12-py3-none-any.whl size=16204 sha256=29b83e942c61aeb380d3886381f3e7394d505cbb6c3648a934776bd7e614c4b6\n",
      "  Stored in directory: c:\\users\\hp\\appdata\\local\\pip\\cache\\wheels\\bd\\d4\\a5\\a003719238ab12962e430310093e567ab7d29bc3bfe062b14c\n",
      "  Building wheel for stdiomask (pyproject.toml): started\n",
      "  Building wheel for stdiomask (pyproject.toml): finished with status 'done'\n",
      "  Created wheel for stdiomask: filename=stdiomask-0.0.6-py3-none-any.whl size=3321 sha256=d7970736cd56a5090c358419d6ba46bebaa4a8fdf1808751fd05ee51875ce4d9\n",
      "  Stored in directory: c:\\users\\hp\\appdata\\local\\pip\\cache\\wheels\\c1\\e9\\4e\\bcdfc282cffe91bb88e951ad9a05fb166ed6460bbe3c6dc02b\n",
      "Successfully built pyinputplus pysimplevalidate stdiomask\n",
      "Installing collected packages: stdiomask, pysimplevalidate, pyinputplus\n",
      "Successfully installed pyinputplus-0.2.12 pysimplevalidate-0.2.12 stdiomask-0.0.6\n"
     ]
    }
   ],
   "source": [
    "!pip install pyinputplus"
   ]
  },
  {
   "cell_type": "code",
   "execution_count": 2,
   "id": "30f39e1f",
   "metadata": {},
   "outputs": [
    {
     "name": "stdout",
     "output_type": "stream",
     "text": [
      " Enter a positive number :-10\n"
     ]
    },
    {
     "ename": "AssertionError",
     "evalue": "",
     "output_type": "error",
     "traceback": [
      "\u001b[1;31m---------------------------------------------------------------------------\u001b[0m",
      "\u001b[1;31mAssertionError\u001b[0m                            Traceback (most recent call last)",
      "\u001b[1;32m<ipython-input-2-f0c2750e9055>\u001b[0m in \u001b[0;36m<module>\u001b[1;34m\u001b[0m\n\u001b[0;32m      2\u001b[0m \u001b[1;33m\u001b[0m\u001b[0m\n\u001b[0;32m      3\u001b[0m \u001b[0mspam\u001b[0m \u001b[1;33m=\u001b[0m \u001b[0mpyip\u001b[0m\u001b[1;33m.\u001b[0m\u001b[0minputNum\u001b[0m\u001b[1;33m(\u001b[0m\u001b[1;34m\" Enter a positive number :\"\u001b[0m\u001b[1;33m)\u001b[0m\u001b[1;33m\u001b[0m\u001b[1;33m\u001b[0m\u001b[0m\n\u001b[1;32m----> 4\u001b[1;33m \u001b[1;32massert\u001b[0m \u001b[0mspam\u001b[0m \u001b[1;33m>\u001b[0m \u001b[1;36m0\u001b[0m\u001b[1;33m\u001b[0m\u001b[1;33m\u001b[0m\u001b[0m\n\u001b[0m\u001b[0;32m      5\u001b[0m \u001b[0mprint\u001b[0m\u001b[1;33m(\u001b[0m\u001b[0mspam\u001b[0m\u001b[1;33m,\u001b[0m\u001b[1;34m'is a positive number'\u001b[0m\u001b[1;33m)\u001b[0m\u001b[1;33m\u001b[0m\u001b[1;33m\u001b[0m\u001b[0m\n",
      "\u001b[1;31mAssertionError\u001b[0m: "
     ]
    }
   ],
   "source": [
    "import pyinputplus as pyip\n",
    "\n",
    "spam = pyip.inputNum(\" Enter a positive number :\")\n",
    "assert spam > 0\n",
    "print(spam,'is a positive number')"
   ]
  },
  {
   "cell_type": "markdown",
   "id": "95e6ba59",
   "metadata": {},
   "source": [
    "QUE 2)"
   ]
  },
  {
   "cell_type": "code",
   "execution_count": 3,
   "id": "b50970e1",
   "metadata": {},
   "outputs": [
    {
     "ename": "AssertionError",
     "evalue": "",
     "output_type": "error",
     "traceback": [
      "\u001b[1;31m---------------------------------------------------------------------------\u001b[0m",
      "\u001b[1;31mAssertionError\u001b[0m                            Traceback (most recent call last)",
      "\u001b[1;32m<ipython-input-3-ff14aa322207>\u001b[0m in \u001b[0;36m<module>\u001b[1;34m\u001b[0m\n\u001b[0;32m      2\u001b[0m \u001b[0mbacon\u001b[0m \u001b[1;33m=\u001b[0m\u001b[1;34m'hello'\u001b[0m\u001b[1;33m\u001b[0m\u001b[1;33m\u001b[0m\u001b[0m\n\u001b[0;32m      3\u001b[0m \u001b[1;33m\u001b[0m\u001b[0m\n\u001b[1;32m----> 4\u001b[1;33m \u001b[1;32massert\u001b[0m \u001b[0meggs\u001b[0m\u001b[1;33m.\u001b[0m\u001b[0mlower\u001b[0m\u001b[1;33m(\u001b[0m\u001b[1;33m)\u001b[0m \u001b[1;33m!=\u001b[0m \u001b[0mbacon\u001b[0m\u001b[1;33m.\u001b[0m\u001b[0mlower\u001b[0m\u001b[1;33m(\u001b[0m\u001b[1;33m)\u001b[0m \u001b[1;32mor\u001b[0m \u001b[0meggs\u001b[0m\u001b[1;33m.\u001b[0m\u001b[0mupper\u001b[0m\u001b[1;33m(\u001b[0m\u001b[1;33m)\u001b[0m \u001b[1;33m!=\u001b[0m \u001b[0mbacon\u001b[0m\u001b[1;33m.\u001b[0m\u001b[0mupper\u001b[0m\u001b[1;33m(\u001b[0m\u001b[1;33m)\u001b[0m\u001b[1;33m\u001b[0m\u001b[1;33m\u001b[0m\u001b[0m\n\u001b[0m\u001b[0;32m      5\u001b[0m \u001b[0mprint\u001b[0m\u001b[1;33m(\u001b[0m\u001b[1;34m'The eggs and bacon variables are not the same!'\u001b[0m\u001b[1;33m)\u001b[0m\u001b[1;33m\u001b[0m\u001b[1;33m\u001b[0m\u001b[0m\n",
      "\u001b[1;31mAssertionError\u001b[0m: "
     ]
    }
   ],
   "source": [
    "eggs='Hello'\n",
    "bacon ='hello'\n",
    "\n",
    "assert eggs.lower() != bacon.lower() or eggs.upper() != bacon.upper()\n",
    "print('The eggs and bacon variables are not the same!')"
   ]
  },
  {
   "cell_type": "markdown",
   "id": "bccf0917",
   "metadata": {},
   "source": [
    "QUE 3) assert False - this always triggers an exception"
   ]
  },
  {
   "cell_type": "code",
   "execution_count": 4,
   "id": "5db9688c",
   "metadata": {},
   "outputs": [
    {
     "ename": "AssertionError",
     "evalue": "",
     "output_type": "error",
     "traceback": [
      "\u001b[1;31m---------------------------------------------------------------------------\u001b[0m",
      "\u001b[1;31mAssertionError\u001b[0m                            Traceback (most recent call last)",
      "\u001b[1;32m<ipython-input-4-a871fdc9ebee>\u001b[0m in \u001b[0;36m<module>\u001b[1;34m\u001b[0m\n\u001b[1;32m----> 1\u001b[1;33m \u001b[1;32massert\u001b[0m \u001b[1;32mFalse\u001b[0m\u001b[1;33m\u001b[0m\u001b[1;33m\u001b[0m\u001b[0m\n\u001b[0m",
      "\u001b[1;31mAssertionError\u001b[0m: "
     ]
    }
   ],
   "source": [
    "assert False"
   ]
  },
  {
   "cell_type": "markdown",
   "id": "ca87e475",
   "metadata": {},
   "source": [
    "QUE 4) "
   ]
  },
  {
   "cell_type": "code",
   "execution_count": 5,
   "id": "cc7a3dc8",
   "metadata": {},
   "outputs": [],
   "source": [
    "import logging as lg\n",
    "lg.basicConfig(level=lg.DEBUG, format=' %(asctime)s - %(levelname)s - %(message)s')\n",
    "     "
   ]
  },
  {
   "cell_type": "markdown",
   "id": "77e1c1e7",
   "metadata": {},
   "source": [
    "QUE 5) "
   ]
  },
  {
   "cell_type": "code",
   "execution_count": 6,
   "id": "bbe960a7",
   "metadata": {},
   "outputs": [],
   "source": [
    "import logging as lg\n",
    "lg.basicConfig(filename='programLog.txt', level=lg.DEBUG, format=' %(asctime)s - %(levelname)s - %(message)s')"
   ]
  },
  {
   "cell_type": "markdown",
   "id": "f84473d8",
   "metadata": {},
   "source": [
    "QUE 6) Five level of loggins are DEBUG, INFO, WARNING, ERROR, and CRITICAL\n",
    "\n",
    "logging.debug() - variable's state and small details\n",
    "\n",
    "logging.info() - general events, confirm a program is working\n",
    "\n",
    "logging.warning() - potiental problem to work on in the future\n",
    "\n",
    "logging.error() - record an error that caused program to fail to do something\n",
    "\n",
    "logging.critical() - fatal error that has caused"
   ]
  },
  {
   "cell_type": "markdown",
   "id": "326b2892",
   "metadata": {},
   "source": [
    "QUE 7) "
   ]
  },
  {
   "cell_type": "code",
   "execution_count": 7,
   "id": "bae0bc43",
   "metadata": {},
   "outputs": [],
   "source": [
    "import logging as lg\n",
    "lg.disable(lg.CRITICAL)"
   ]
  },
  {
   "cell_type": "markdown",
   "id": "6ab65325",
   "metadata": {},
   "source": [
    "QUE 8) You can disable logging messages without removing the logging function calls.\n",
    "\n",
    "You can selectively disable lower-level logging messages.\n",
    "\n",
    "You can create logging messages. Logging messages provides a timestamp."
   ]
  },
  {
   "cell_type": "markdown",
   "id": "75fb170a",
   "metadata": {},
   "source": [
    "QUE 9) The Step in button will move the debugger into a function call.\n",
    "\n",
    "The Over button will quickly execute the function call without stepping into it.\n",
    "\n",
    "The Out button will quickly execute the rest of the code until it steps out of the function it currently is in."
   ]
  },
  {
   "cell_type": "markdown",
   "id": "6d49cc07",
   "metadata": {},
   "source": [
    "QUE 10) It will stops at next breakpoint, if there are no further breakpoints program will be fully executed."
   ]
  },
  {
   "cell_type": "markdown",
   "id": "0e14cc88",
   "metadata": {},
   "source": [
    "QUE 11) A breakpoint is an intentional stopping point or pause put into a program for debugging purposes."
   ]
  }
 ],
 "metadata": {
  "kernelspec": {
   "display_name": "Python 3",
   "language": "python",
   "name": "python3"
  },
  "language_info": {
   "codemirror_mode": {
    "name": "ipython",
    "version": 3
   },
   "file_extension": ".py",
   "mimetype": "text/x-python",
   "name": "python",
   "nbconvert_exporter": "python",
   "pygments_lexer": "ipython3",
   "version": "3.8.5"
  }
 },
 "nbformat": 4,
 "nbformat_minor": 5
}
