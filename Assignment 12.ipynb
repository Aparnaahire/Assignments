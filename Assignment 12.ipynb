{
 "cells": [
  {
   "cell_type": "markdown",
   "id": "e6bdfc5e",
   "metadata": {},
   "source": [
    "QUE 1) These files will be opened in binary mode., read binary (rb) for PdfFileREader() and write binary (wb) PdfFileWriter()."
   ]
  },
  {
   "cell_type": "markdown",
   "id": "b4d36dc4",
   "metadata": {},
   "source": [
    "QUE 2) Calling getPage(4) will return a Page object for page 5 since page 0 is the first page"
   ]
  },
  {
   "cell_type": "markdown",
   "id": "618c7e0c",
   "metadata": {},
   "source": [
    "QUE 3) The total number of pages in the document is stored in the numPages attribute of a PdfFileReader object"
   ]
  },
  {
   "cell_type": "markdown",
   "id": "9b51287f",
   "metadata": {},
   "source": [
    "QUE 4) Before we obtain the page object, the pdf has to be decrypted by calling .decrypt('swordfish')"
   ]
  },
  {
   "cell_type": "markdown",
   "id": "87c29ef9",
   "metadata": {},
   "source": [
    "QUE 5) GetRotation() method returns the Page."
   ]
  },
  {
   "cell_type": "markdown",
   "id": "95498100",
   "metadata": {},
   "source": [
    "QUE 6) Paragraph Object : A document contains multiple paragraphs. A paragraph begins on a new line and contains multiple\n",
    "runs. The Document object contains a list of Paragraph objects for the paragraphs in the document. (A new paragraph begins whenever the user presses ENTER or RETURN while typing in a Word document.)\n",
    "\n",
    "Run Objects : Runs are contiguous groups of characters within a paragraph with the same style."
   ]
  },
  {
   "cell_type": "markdown",
   "id": "a6f013f5",
   "metadata": {},
   "source": [
    "QUE 7)"
   ]
  },
  {
   "cell_type": "code",
   "execution_count": null,
   "id": "6f86e91a",
   "metadata": {},
   "outputs": [],
   "source": [
    "#!pip install python-docx\n",
    "import docx\n",
    "doc = docx.Document('abc.docx')\n",
    "doc.paragraphs\n",
    "#By using doc.paragraphs"
   ]
  },
  {
   "cell_type": "markdown",
   "id": "17493881",
   "metadata": {},
   "source": [
    "QUE 8)  A Run object has bold, underline,italic,strike and outline variables."
   ]
  },
  {
   "cell_type": "markdown",
   "id": "5f9d391f",
   "metadata": {},
   "source": [
    "QUE 9) Runs can be further styled using text attributes. Each attribute can be set to one of three values:\n",
    "True (the attribute is always enabled, no matter what other styles are applied to the run),\n",
    "False (the attribute is always disabled),\n",
    "None (defaults to whatever the run’s style is set to)\n",
    "\n",
    "True always makes the Run object bolded and False makes it always not bolded, no matter what the style’s bold setting is. None will make the Run object just use the style’s bold setting"
   ]
  },
  {
   "cell_type": "markdown",
   "id": "129e8af3",
   "metadata": {},
   "source": [
    "QUE 10) By Calling the docx.Document() function."
   ]
  },
  {
   "cell_type": "markdown",
   "id": "f8ee4c44",
   "metadata": {},
   "source": [
    "QUE 11) "
   ]
  },
  {
   "cell_type": "code",
   "execution_count": null,
   "id": "7d3d2f72",
   "metadata": {},
   "outputs": [],
   "source": [
    "import docx\n",
    "doc = docx.Document()\n",
    "\n",
    "doc.add_paragraph('Hello there!')\n",
    "doc.save('hellothere.docx')"
   ]
  },
  {
   "cell_type": "markdown",
   "id": "1271b000",
   "metadata": {},
   "source": [
    "QUE 12) integer from 0 to 4\n",
    "The arguments to add_heading() are a string of the heading text and an integer from 0 to 4. The integer 0 makes the heading the Title style, which is used for the top of the document. Integers 1 to 4 are for various heading levels, with 1 being the main heading and 4 the lowest subheading"
   ]
  }
 ],
 "metadata": {
  "kernelspec": {
   "display_name": "Python 3",
   "language": "python",
   "name": "python3"
  },
  "language_info": {
   "codemirror_mode": {
    "name": "ipython",
    "version": 3
   },
   "file_extension": ".py",
   "mimetype": "text/x-python",
   "name": "python",
   "nbconvert_exporter": "python",
   "pygments_lexer": "ipython3",
   "version": "3.8.5"
  }
 },
 "nbformat": 4,
 "nbformat_minor": 5
}
