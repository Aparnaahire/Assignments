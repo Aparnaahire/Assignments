{
 "cells": [
  {
   "cell_type": "markdown",
   "id": "ae5912fc",
   "metadata": {},
   "source": [
    "QUE 1) The Advantages of Excel over CSV are:\n",
    "\n",
    "1)Excel (XLS and XLSX) file formats are better for storing and analysing complex data.\n",
    "2)An Excel not only stores data but can also do operations on the data using macros, formulas etc\n",
    "3)CSV files are plain-text files, Does not contain formatting, formulas, macros, etc. It is also known as flat files"
   ]
  },
  {
   "cell_type": "markdown",
   "id": "eec3ed2a",
   "metadata": {},
   "source": [
    "QUE 2) "
   ]
  },
  {
   "cell_type": "code",
   "execution_count": null,
   "id": "2bc5391d",
   "metadata": {},
   "outputs": [],
   "source": [
    "#we pass a File object, obtained from a call to open().\n",
    "import csv\n",
    "file_csv = open('xyz.csv')\n",
    "filereader = csv.reader(file_csv)\n",
    "fileData = list(filereader)\n",
    "fileData"
   ]
  },
  {
   "cell_type": "markdown",
   "id": "73f9ac6c",
   "metadata": {},
   "source": [
    "QUE 3) File objects need to be opened in read-binary ('rb') for Reader objects and write-binary ('wb') for Writer objects"
   ]
  },
  {
   "cell_type": "markdown",
   "id": "6943b5e4",
   "metadata": {},
   "source": [
    "QUE 4) csv.writer class provides two methods for writing to CSV. They are writerow() and writerows(). writerow() method writes a single row at a time. Whereas writerows() method is used to write multiple rows at a time."
   ]
  },
  {
   "cell_type": "code",
   "execution_count": null,
   "id": "37b3e347",
   "metadata": {},
   "outputs": [],
   "source": [
    "#The writerow() method\n",
    "File_abc = open('abc.csv','w')\n",
    "File_Writer = csv.writer(File_abc)\n",
    "csv.writer(File_abc).writerow(['A','B','C'])"
   ]
  },
  {
   "cell_type": "markdown",
   "id": "41f778e1",
   "metadata": {},
   "source": [
    "QUE 5) The delimiter argument changes the string used to separate cells in a row.\n",
    "       The line terminator argument changes the string used to separate rows."
   ]
  },
  {
   "cell_type": "markdown",
   "id": "08c16679",
   "metadata": {},
   "source": [
    "QUE 6)  json.loads() function takes a string of JSON data and returns a Python data structure."
   ]
  },
  {
   "cell_type": "markdown",
   "id": "1b92cd2e",
   "metadata": {},
   "source": [
    "QUE 7)  json.dumps() takes a Python data structure and returns a string of JSON data."
   ]
  }
 ],
 "metadata": {
  "kernelspec": {
   "display_name": "Python 3",
   "language": "python",
   "name": "python3"
  },
  "language_info": {
   "codemirror_mode": {
    "name": "ipython",
    "version": 3
   },
   "file_extension": ".py",
   "mimetype": "text/x-python",
   "name": "python",
   "nbconvert_exporter": "python",
   "pygments_lexer": "ipython3",
   "version": "3.8.5"
  }
 },
 "nbformat": 4,
 "nbformat_minor": 5
}
