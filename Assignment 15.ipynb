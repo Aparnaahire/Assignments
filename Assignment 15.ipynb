{
 "cells": [
  {
   "cell_type": "markdown",
   "id": "2a5d2ae2",
   "metadata": {},
   "source": [
    "QUE 1) "
   ]
  },
  {
   "cell_type": "code",
   "execution_count": 1,
   "id": "a826b3a9",
   "metadata": {},
   "outputs": [
    {
     "name": "stdout",
     "output_type": "stream",
     "text": [
      "3600\n"
     ]
    }
   ],
   "source": [
    "print(60*60)"
   ]
  },
  {
   "cell_type": "markdown",
   "id": "c33de8be",
   "metadata": {},
   "source": [
    "QUE 2) "
   ]
  },
  {
   "cell_type": "code",
   "execution_count": 2,
   "id": "00a42024",
   "metadata": {},
   "outputs": [
    {
     "name": "stdout",
     "output_type": "stream",
     "text": [
      "3600\n"
     ]
    }
   ],
   "source": [
    "seconds_per_hour = 60*60\n",
    "print(seconds_per_hour)"
   ]
  },
  {
   "cell_type": "markdown",
   "id": "b6e9c528",
   "metadata": {},
   "source": [
    "QUE 3) "
   ]
  },
  {
   "cell_type": "code",
   "execution_count": 3,
   "id": "ce265a7b",
   "metadata": {},
   "outputs": [
    {
     "name": "stdout",
     "output_type": "stream",
     "text": [
      "86400\n"
     ]
    }
   ],
   "source": [
    "one_day  = 24\n",
    "second_in_a_day = 24 * seconds_per_hour\n",
    "print(second_in_a_day)"
   ]
  },
  {
   "cell_type": "markdown",
   "id": "162bfe17",
   "metadata": {},
   "source": [
    "QUE 4) "
   ]
  },
  {
   "cell_type": "code",
   "execution_count": 4,
   "id": "418bd6c2",
   "metadata": {},
   "outputs": [
    {
     "name": "stdout",
     "output_type": "stream",
     "text": [
      "86400\n"
     ]
    }
   ],
   "source": [
    "seconds_per_day = 24*60*60\n",
    "print(seconds_per_day)"
   ]
  },
  {
   "cell_type": "markdown",
   "id": "317ff125",
   "metadata": {},
   "source": [
    "QUE 5) "
   ]
  },
  {
   "cell_type": "code",
   "execution_count": 5,
   "id": "955fc226",
   "metadata": {},
   "outputs": [
    {
     "name": "stdout",
     "output_type": "stream",
     "text": [
      "24.0\n"
     ]
    }
   ],
   "source": [
    "print(seconds_per_day/seconds_per_hour)"
   ]
  },
  {
   "cell_type": "markdown",
   "id": "f1be3102",
   "metadata": {},
   "source": [
    "QUE 6)"
   ]
  },
  {
   "cell_type": "code",
   "execution_count": 6,
   "id": "a9524d63",
   "metadata": {},
   "outputs": [
    {
     "name": "stdout",
     "output_type": "stream",
     "text": [
      "24 -> yes this values agree with the floating point value from the previous question\n"
     ]
    }
   ],
   "source": [
    "print(seconds_per_day//seconds_per_hour, end='')\n",
    "print(' -> yes this values agree with the floating point value from the previous question')"
   ]
  },
  {
   "cell_type": "markdown",
   "id": "55781437",
   "metadata": {},
   "source": [
    "QUE 7) "
   ]
  },
  {
   "cell_type": "code",
   "execution_count": 7,
   "id": "a5afa44c",
   "metadata": {},
   "outputs": [
    {
     "name": "stdout",
     "output_type": "stream",
     "text": [
      "2\n",
      "3\n",
      "5\n",
      "7\n",
      "11\n"
     ]
    }
   ],
   "source": [
    "def genPrimes():\n",
    "    n = 0\n",
    "    while True:\n",
    "        if n == 2 or n == 3 :\n",
    "            yield n\n",
    "        elif ((n-1)%6 == 0 or (n+1)%6 == 0) and n !=1:\n",
    "            yield n\n",
    "        n = n+1\n",
    "        \n",
    "output = genPrimes()\n",
    "for ele in range(5):\n",
    "    print(next(output))"
   ]
  }
 ],
 "metadata": {
  "kernelspec": {
   "display_name": "Python 3",
   "language": "python",
   "name": "python3"
  },
  "language_info": {
   "codemirror_mode": {
    "name": "ipython",
    "version": 3
   },
   "file_extension": ".py",
   "mimetype": "text/x-python",
   "name": "python",
   "nbconvert_exporter": "python",
   "pygments_lexer": "ipython3",
   "version": "3.8.5"
  }
 },
 "nbformat": 4,
 "nbformat_minor": 5
}
