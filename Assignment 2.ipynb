{
 "cells": [
  {
   "cell_type": "markdown",
   "id": "f7102dcb",
   "metadata": {},
   "source": [
    "Que 1) \n",
    "      True or False which are special version of 1 and 0 respectively are two values of the boolean data type.\n",
    "      It can be written as , when value is returned , true=1 and False=0."
   ]
  },
  {
   "cell_type": "markdown",
   "id": "50f677a3",
   "metadata": {},
   "source": [
    "Que 2) \n",
    "      The three boolean operators are AND, OR and NOT."
   ]
  },
  {
   "cell_type": "markdown",
   "id": "f795b633",
   "metadata": {},
   "source": [
    "Que 3) \n",
    "      1)Comparison operator ==\n",
    "          X       ==       Y           RETURNS\n",
    "          True    ==       True        True\n",
    "          True    ==       False       False\n",
    "          False   ==       True        False\n",
    "          False   ==       False       True"
   ]
  },
  {
   "cell_type": "markdown",
   "id": "e1e182bd",
   "metadata": {},
   "source": [
    "      2) AND operator \n",
    "         X      AND     Y          RETURNS \n",
    "         True   AND     True       True\n",
    "         True   AND     False      False\n",
    "         False  AND     True       False\n",
    "         False  AND     False      False"
   ]
  },
  {
   "cell_type": "markdown",
   "id": "8c525b50",
   "metadata": {},
   "source": [
    "      3) OR operator\n",
    "         X      OR      Y       RETURNS\n",
    "         True   OR      True    True \n",
    "         True   OR      False   True\n",
    "         False  OR      True    True\n",
    "         False  OR      False   False"
   ]
  },
  {
   "cell_type": "markdown",
   "id": "7a6bb274",
   "metadata": {},
   "source": [
    "      4) NOT operator\n",
    "         NOT     X      RETURNS\n",
    "         NOT     True   False \n",
    "         NOT     False  True"
   ]
  },
  {
   "cell_type": "markdown",
   "id": "afa1dcc4",
   "metadata": {},
   "source": [
    "Que 4)"
   ]
  },
  {
   "cell_type": "code",
   "execution_count": 1,
   "id": "39f05c86",
   "metadata": {},
   "outputs": [
    {
     "data": {
      "text/plain": [
       "False"
      ]
     },
     "execution_count": 1,
     "metadata": {},
     "output_type": "execute_result"
    }
   ],
   "source": [
    "(5>4) and (3==5)"
   ]
  },
  {
   "cell_type": "code",
   "execution_count": 2,
   "id": "76287741",
   "metadata": {},
   "outputs": [
    {
     "data": {
      "text/plain": [
       "False"
      ]
     },
     "execution_count": 2,
     "metadata": {},
     "output_type": "execute_result"
    }
   ],
   "source": [
    "not(5>4)"
   ]
  },
  {
   "cell_type": "code",
   "execution_count": 3,
   "id": "9a0873db",
   "metadata": {},
   "outputs": [
    {
     "data": {
      "text/plain": [
       "True"
      ]
     },
     "execution_count": 3,
     "metadata": {},
     "output_type": "execute_result"
    }
   ],
   "source": [
    "(5>4) or (3==5)"
   ]
  },
  {
   "cell_type": "code",
   "execution_count": 4,
   "id": "a58c1625",
   "metadata": {},
   "outputs": [
    {
     "data": {
      "text/plain": [
       "False"
      ]
     },
     "execution_count": 4,
     "metadata": {},
     "output_type": "execute_result"
    }
   ],
   "source": [
    "not ((5>4) or (3==5))"
   ]
  },
  {
   "cell_type": "code",
   "execution_count": 5,
   "id": "e62f664e",
   "metadata": {},
   "outputs": [
    {
     "data": {
      "text/plain": [
       "False"
      ]
     },
     "execution_count": 5,
     "metadata": {},
     "output_type": "execute_result"
    }
   ],
   "source": [
    "(True and True) and (True==False)"
   ]
  },
  {
   "cell_type": "code",
   "execution_count": 6,
   "id": "35331dd7",
   "metadata": {},
   "outputs": [
    {
     "data": {
      "text/plain": [
       "True"
      ]
     },
     "execution_count": 6,
     "metadata": {},
     "output_type": "execute_result"
    }
   ],
   "source": [
    "(not False)or (not True)"
   ]
  },
  {
   "cell_type": "markdown",
   "id": "0bf6d7d5",
   "metadata": {},
   "source": [
    "Que 5) \n",
    "      Six comparison  operators are:\n",
    "      1. Less than(<)\n",
    "      2. Less than or equal to(<=)\n",
    "      3. Greater than (>)\n",
    "      4. Greater than equal to (>=)\n",
    "      5. Equal to (==)\n",
    "      6. Not equal to (!=)"
   ]
  },
  {
   "cell_type": "markdown",
   "id": "2fea0ef0",
   "metadata": {},
   "source": [
    "Que 6)\n",
    "     The \"=\" is an assignment operator is used to assign the value on the right to the variable on the left.\n",
    "     The \"==\"operator checks whether the two given operands are equal or not. \n",
    "     for ex:"
   ]
  },
  {
   "cell_type": "code",
   "execution_count": 8,
   "id": "531d4778",
   "metadata": {},
   "outputs": [],
   "source": [
    "a=10 #the value 10 is assign to variable a\n",
    "if a==11: # checking value of a is exact equal tp 11?\n",
    "    print( \"hii\")"
   ]
  },
  {
   "cell_type": "markdown",
   "id": "f7f2499a",
   "metadata": {},
   "source": [
    "Que 7) \n",
    "      The three blocks are everything inside the if statement and lines print (\"bacon\") and print (\"ham\")."
   ]
  },
  {
   "cell_type": "markdown",
   "id": "5c093e73",
   "metadata": {},
   "source": [
    "Que 8)\n"
   ]
  },
  {
   "cell_type": "code",
   "execution_count": null,
   "id": "e9b43fb6",
   "metadata": {},
   "outputs": [],
   "source": [
    "spam= int(input())\n",
    "if spam==1:\n",
    "    print(\"Hello\")\n",
    "elif spam==2:\n",
    "    print(\"howday\")\n",
    "else:\n",
    "    print (\"Greetings!\")"
   ]
  },
  {
   "cell_type": "markdown",
   "id": "45011469",
   "metadata": {},
   "source": [
    "Que 9)\n",
    "     To exit out of endless loop on the command line , press CTRL+C ."
   ]
  },
  {
   "cell_type": "markdown",
   "id": "f885236b",
   "metadata": {},
   "source": [
    "Que 10) \n",
    "       Break statement leaves a loop, whereas the continue statement jumps to the next iteration."
   ]
  },
  {
   "cell_type": "markdown",
   "id": "9c657a60",
   "metadata": {},
   "source": [
    "Que 11) \n",
    "       Range function returns the sequence of the gievn number between the given range.\n",
    "       \n",
    "        here range (10) is  with one argument, we will get a series of number that starts at 0 and go till 10 but not including 10.\n",
    "        range(0,10) in this with two arguments the user get to decide starting point as well as stop point . here sequence will start from 0 and will go till 10 excluding 10.\n",
    "        in range(0,10,1) the user calling range with three arguments, the user can choose ont only where the series of number will start and stop but also how big the difference will be between one number and next . here difference between number is 1."
   ]
  },
  {
   "cell_type": "markdown",
   "id": "f783167a",
   "metadata": {},
   "source": [
    "Que 12 ) "
   ]
  },
  {
   "cell_type": "code",
   "execution_count": 1,
   "id": "50624817",
   "metadata": {},
   "outputs": [
    {
     "name": "stdout",
     "output_type": "stream",
     "text": [
      "1\n",
      "2\n",
      "3\n",
      "4\n",
      "5\n",
      "6\n",
      "7\n",
      "8\n",
      "9\n",
      "10\n"
     ]
    }
   ],
   "source": [
    "for i in range(1,11):\n",
    "    print(i)"
   ]
  },
  {
   "cell_type": "code",
   "execution_count": 2,
   "id": "ba12d2ef",
   "metadata": {},
   "outputs": [
    {
     "name": "stdout",
     "output_type": "stream",
     "text": [
      "1\n",
      "2\n",
      "3\n",
      "4\n",
      "5\n",
      "6\n",
      "7\n",
      "8\n",
      "9\n",
      "10\n"
     ]
    }
   ],
   "source": [
    "i=1\n",
    "while i<=10:\n",
    "    print(i)\n",
    "    i = i+1"
   ]
  },
  {
   "cell_type": "markdown",
   "id": "f5ff8ca3",
   "metadata": {},
   "source": [
    "Que 13)\n",
    "       This function can be called with spam.bacon() "
   ]
  }
 ],
 "metadata": {
  "kernelspec": {
   "display_name": "Python 3 (ipykernel)",
   "language": "python",
   "name": "python3"
  },
  "language_info": {
   "codemirror_mode": {
    "name": "ipython",
    "version": 3
   },
   "file_extension": ".py",
   "mimetype": "text/x-python",
   "name": "python",
   "nbconvert_exporter": "python",
   "pygments_lexer": "ipython3",
   "version": "3.9.12"
  }
 },
 "nbformat": 4,
 "nbformat_minor": 5
}
