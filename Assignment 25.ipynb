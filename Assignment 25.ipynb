{
 "cells": [
  {
   "cell_type": "markdown",
   "id": "4d3e1586",
   "metadata": {},
   "source": [
    "QUE 1)  Enclosing a list comprehension in square brackets returns a list.but where as enclosing a list comprehension in parentheses returns a generator object"
   ]
  },
  {
   "cell_type": "code",
   "execution_count": 1,
   "id": "cb1c2071",
   "metadata": {},
   "outputs": [
    {
     "name": "stdout",
     "output_type": "stream",
     "text": [
      "[0, 1, 2, 3, 4, 5, 6, 7, 8, 9] <class 'list'>\n",
      "<generator object <genexpr> at 0x0000018261AE5F90> <class 'generator'>\n"
     ]
    }
   ],
   "source": [
    "l = [i for i in range(10)]\n",
    "print(l, type(l))\n",
    "g = (i for i in range(10))\n",
    "print(g, type(g))"
   ]
  },
  {
   "cell_type": "markdown",
   "id": "683ff0ca",
   "metadata": {},
   "source": [
    "QUE 2) An iterator is an object which contains a countable number of values and it is used to iterate over iterable objects like list, tuples, sets, etc. Iterators are implemented using a class. It follows lazy evaluation where the evaluation of the expression will be on hold and stored in the memory until the item is called specifically which helps us to avoid repeated evaluation. As lazy evaluation is implemented, it requires only 1 memory location to process the value and when we are using a large dataset then, wastage of RAM space will be reduced the need to load the entire dataset at the same time will not be there.For an iterator: iter() keyword is used to create an iterator containing an iterable object.next() keyword is used to call the next element in the iterable object.\n",
    "\n",
    "Similarly Generators are an another way of creating iterators in a simple way where it uses the keyword yield statement instead of return statement in a defined function.Generators are implemented using a function. Just as iterators, generators also follow lazy evaluation. Here, the yield function returns the data without affecting or exiting the function. It will return a sequence of data in an iterable format where we need to iterate over the sequence to use the data as they won’t store the entire sequence in the memory."
   ]
  },
  {
   "cell_type": "code",
   "execution_count": 2,
   "id": "66342302",
   "metadata": {},
   "outputs": [
    {
     "name": "stdout",
     "output_type": "stream",
     "text": [
      "<class 'list_iterator'>\n",
      "iNeuron\n",
      "Full\n",
      "Stack\n",
      "Data Science\n"
     ]
    }
   ],
   "source": [
    "# Example of iterartor\n",
    "iter_str = iter(['iNeuron','Full','Stack','Data Science'])\n",
    "print(type(iter_str))\n",
    "print(next(iter_str))\n",
    "print(next(iter_str))\n",
    "print(next(iter_str))\n",
    "print(next(iter_str))"
   ]
  },
  {
   "cell_type": "code",
   "execution_count": 3,
   "id": "b701b423",
   "metadata": {},
   "outputs": [
    {
     "name": "stdout",
     "output_type": "stream",
     "text": [
      "0\n",
      "1\n",
      "8\n",
      "27\n",
      "64\n"
     ]
    }
   ],
   "source": [
    "# Example of Generator\n",
    "def cube_numbers(in_num):\n",
    "    for i in range(in_num+1):\n",
    "        yield i**3\n",
    "\n",
    "out_num = cube_numbers(4)\n",
    "print(next(out_num))\n",
    "print(next(out_num))\n",
    "print(next(out_num))\n",
    "print(next(out_num))\n",
    "print(next(out_num))"
   ]
  },
  {
   "cell_type": "markdown",
   "id": "0e3be75c",
   "metadata": {},
   "source": [
    "QUE 3) A generator function uses a yield statement instead of a return statement. A generator function will always return a iterable object called generator. where as a normal function can return a string/list/tuple/dict/NoneType ... etc"
   ]
  },
  {
   "cell_type": "markdown",
   "id": "81a8d7ad",
   "metadata": {},
   "source": [
    "QUE 4) The yield statement suspends function’s execution and sends a value back to the caller, but retains enough state to enable function to resume where it is left off. When resumed, the function continues execution immediately after the last yield run. This allows its code to produce a series of values over time, rather than computing them at once and sending them back like a list."
   ]
  },
  {
   "cell_type": "markdown",
   "id": "1c04495e",
   "metadata": {},
   "source": [
    "QUE 5) The main differences between map calls and list comprehensiosn are:\n",
    "\n",
    "1)List comprehension is more concise and easier to read as compared to map.\n",
    "2)List comprehension allows filtering. In map, we have no such facility. For example, to print all odd numbers in range of 50, we can write [n for n in range(50) if n%2 != 0]. There is no alternate for it in map\n",
    "3)List comprehension are used when a list of results is required as final output.but map only returns a map object. it needs to be explicitly coverted to desired datatype.\n",
    "4)List comprehension is faster than map when we need to evaluate expressions that are too long or complicated to express\n",
    "5)Map is faster in case of calling an already defined function on a set of values."
   ]
  },
  {
   "cell_type": "code",
   "execution_count": null,
   "id": "d3e3012b",
   "metadata": {},
   "outputs": [],
   "source": []
  }
 ],
 "metadata": {
  "kernelspec": {
   "display_name": "Python 3",
   "language": "python",
   "name": "python3"
  },
  "language_info": {
   "codemirror_mode": {
    "name": "ipython",
    "version": 3
   },
   "file_extension": ".py",
   "mimetype": "text/x-python",
   "name": "python",
   "nbconvert_exporter": "python",
   "pygments_lexer": "ipython3",
   "version": "3.8.5"
  }
 },
 "nbformat": 4,
 "nbformat_minor": 5
}
