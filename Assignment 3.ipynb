{
 "cells": [
  {
   "cell_type": "markdown",
   "id": "5c4c46b2",
   "metadata": {},
   "source": [
    "Que 1) \n",
    "      Functions reduce the need for duplicate code. This makes programs shorter, easier to read and easier to update."
   ]
  },
  {
   "cell_type": "markdown",
   "id": "2743c19b",
   "metadata": {},
   "source": [
    "Que 2) \n",
    "      The code in a function runs when the function is called , not when the function is defined."
   ]
  },
  {
   "cell_type": "markdown",
   "id": "824d84ba",
   "metadata": {},
   "source": [
    "Que 3)\n",
    "      The def statement that creates a function."
   ]
  },
  {
   "cell_type": "markdown",
   "id": "e4e925e1",
   "metadata": {},
   "source": [
    "Que 4) \n",
    "      A function consists of the def statement and the code in its def clause.\n",
    "      \n",
    "      A function call is what moves the program execution into the function, and the function call eveluates to the function's returns value."
   ]
  },
  {
   "cell_type": "markdown",
   "id": "b7a77f99",
   "metadata": {},
   "source": [
    "Que 5) \n",
    "      There is one global scope , and a local scope is created whenever a function is called."
   ]
  },
  {
   "cell_type": "markdown",
   "id": "b69321a0",
   "metadata": {},
   "source": [
    "Que 6) \n",
    "      When a function returns , the local scope is destroyed and all the variables in it are forgotten."
   ]
  },
  {
   "cell_type": "markdown",
   "id": "537d474e",
   "metadata": {},
   "source": [
    "Que 7)\n",
    "      A return value is the value that a function call evaluates to like any value , a return value can be used as part of an expression."
   ]
  },
  {
   "cell_type": "markdown",
   "id": "2c413bc5",
   "metadata": {},
   "source": [
    "Que 8) \n",
    "     IF there is no return statement for a function its return values is None.    "
   ]
  },
  {
   "cell_type": "markdown",
   "id": "24a6d6a7",
   "metadata": {},
   "source": [
    "Que 9) \n",
    "     A global statement will force a variablr in a function to refer to the global variable."
   ]
  },
  {
   "cell_type": "markdown",
   "id": "720ebeb4",
   "metadata": {},
   "source": [
    "Que 10)\n",
    "       The data tyoe of None is NoneType"
   ]
  },
  {
   "cell_type": "markdown",
   "id": "c3088e50",
   "metadata": {},
   "source": [
    "Que 11) \n",
    "      That import statement imports a module named areallyourpetsnamederic"
   ]
  },
  {
   "cell_type": "markdown",
   "id": "5e0b515d",
   "metadata": {},
   "source": [
    "Que 12)\n",
    "      This function can be called with spam.bacon()"
   ]
  },
  {
   "cell_type": "markdown",
   "id": "2e9350a8",
   "metadata": {},
   "source": [
    "Que 13)\n",
    "       Place the line of code that might cause an error in a try clause"
   ]
  },
  {
   "cell_type": "markdown",
   "id": "59792079",
   "metadata": {},
   "source": [
    "Que 14)\n",
    "       The code that could potentially cause an error goes in the try clause.\n",
    "       \n",
    "       The code that executes if an error happens goes in the except clause"
   ]
  }
 ],
 "metadata": {
  "kernelspec": {
   "display_name": "Python 3 (ipykernel)",
   "language": "python",
   "name": "python3"
  },
  "language_info": {
   "codemirror_mode": {
    "name": "ipython",
    "version": 3
   },
   "file_extension": ".py",
   "mimetype": "text/x-python",
   "name": "python",
   "nbconvert_exporter": "python",
   "pygments_lexer": "ipython3",
   "version": "3.9.12"
  }
 },
 "nbformat": 4,
 "nbformat_minor": 5
}
