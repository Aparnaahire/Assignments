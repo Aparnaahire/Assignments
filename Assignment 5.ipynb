{
 "cells": [
  {
   "cell_type": "markdown",
   "id": "8dfd2a13",
   "metadata": {},
   "source": [
    "Que 1) \n",
    "      The empty dictionary's code look like {}"
   ]
  },
  {
   "cell_type": "markdown",
   "id": "1ff1503c",
   "metadata": {},
   "source": [
    "Que 2) \n",
    "     {'foo':42}"
   ]
  },
  {
   "cell_type": "markdown",
   "id": "b73fb5fb",
   "metadata": {},
   "source": [
    "Que 3) \n",
    "      The items stored in a dictionary are unordered , while the items in a list are ordered."
   ]
  },
  {
   "cell_type": "markdown",
   "id": "d0654e1c",
   "metadata": {},
   "source": [
    "Que 4) If you try to access spam ['foo']  then you will get KeyError error.\n",
    "      "
   ]
  },
  {
   "cell_type": "markdown",
   "id": "a7ff0903",
   "metadata": {},
   "source": [
    "Que 5)  There is no difference . The in operator checks whether a value exists as a key in the dictionary.\n",
    "      "
   ]
  },
  {
   "cell_type": "markdown",
   "id": "49be0386",
   "metadata": {},
   "source": [
    "Que 6)  'cat'in spam checks whether there is a 'cat' key in the dictionary , while 'cat'in spam.values() checks whether there is a value 'cat'for one of the keys in spam.\n",
    "      "
   ]
  },
  {
   "cell_type": "markdown",
   "id": "a77bc76a",
   "metadata": {},
   "source": [
    "Que 7) \n",
    "      spam.setdefault('color','black')"
   ]
  },
  {
   "cell_type": "markdown",
   "id": "8f2a345d",
   "metadata": {},
   "source": [
    "Que 8) \n",
    "      pprint.pprint()\n",
    "      "
   ]
  }
 ],
 "metadata": {
  "kernelspec": {
   "display_name": "Python 3 (ipykernel)",
   "language": "python",
   "name": "python3"
  },
  "language_info": {
   "codemirror_mode": {
    "name": "ipython",
    "version": 3
   },
   "file_extension": ".py",
   "mimetype": "text/x-python",
   "name": "python",
   "nbconvert_exporter": "python",
   "pygments_lexer": "ipython3",
   "version": "3.9.12"
  }
 },
 "nbformat": 4,
 "nbformat_minor": 5
}
