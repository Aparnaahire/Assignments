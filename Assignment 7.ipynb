{
 "cells": [
  {
   "cell_type": "markdown",
   "id": "6a346bd6",
   "metadata": {},
   "source": [
    "Que1) The re.compile() function returns Regex object"
   ]
  },
  {
   "cell_type": "markdown",
   "id": "9ab93893",
   "metadata": {},
   "source": [
    "QUE 2) Raw strings are used so that backslashes do not have to be escaped."
   ]
  },
  {
   "cell_type": "markdown",
   "id": "e1d95529",
   "metadata": {},
   "source": [
    "QUE 3) The search() method returns Match objects"
   ]
  },
  {
   "cell_type": "markdown",
   "id": "c991db80",
   "metadata": {},
   "source": [
    "QUE 4) The group() method returns strings of the matched text."
   ]
  },
  {
   "cell_type": "markdown",
   "id": "fa4e9541",
   "metadata": {},
   "source": [
    "QUE 5) Group 0 is the entire match, group 1 covers the first set of parentheses, and group 2 covers the second set of parentheses"
   ]
  },
  {
   "cell_type": "markdown",
   "id": "b8f14251",
   "metadata": {},
   "source": [
    "QUE 6) Periods and parentheses can be escaped with a backslash: \\., \\(, and \\)."
   ]
  },
  {
   "cell_type": "markdown",
   "id": "e3d0fd19",
   "metadata": {},
   "source": [
    "QUE 7)  If the regex has no groups, a list of strings is returned. If the regex has groups, a list of tuples of strings is returned."
   ]
  },
  {
   "cell_type": "markdown",
   "id": "bcc28888",
   "metadata": {},
   "source": [
    "QUE 8) The | character signifies matching “either, or” between two groups."
   ]
  },
  {
   "cell_type": "markdown",
   "id": "3dac3c2a",
   "metadata": {},
   "source": [
    "QUE 10) The + matches one or more. The * matches zero or more."
   ]
  },
  {
   "cell_type": "markdown",
   "id": "a9464b6e",
   "metadata": {},
   "source": [
    "QUE 11) The {4} matches exactly three instances of the preceding group. The {4,5} matches between four and five instances."
   ]
  },
  {
   "cell_type": "markdown",
   "id": "57d8ee95",
   "metadata": {},
   "source": [
    "QUE 12) The \\d, \\w, and \\s shorthand character classes match a single digit, word, or space character, respectively."
   ]
  },
  {
   "cell_type": "markdown",
   "id": "e0dd6196",
   "metadata": {},
   "source": [
    "QUE 13) The \\D, \\W, and \\S shorthand character classes match a single character that is not a digit, word, or space character, respectively."
   ]
  },
  {
   "cell_type": "markdown",
   "id": "fe943380",
   "metadata": {},
   "source": [
    "QUE 14) The .* performs a greedy match, and the .*? performs a nongreedy match."
   ]
  },
  {
   "cell_type": "markdown",
   "id": "f89190e9",
   "metadata": {},
   "source": [
    "QUE 15)  Either [0-9a-z] or [a-z0-9]"
   ]
  },
  {
   "cell_type": "markdown",
   "id": "6bea10b7",
   "metadata": {},
   "source": [
    "QUE 16) Passing re.I or re.IGNORECASE as the second argument to re.compile() will make the matching case insensitive."
   ]
  },
  {
   "cell_type": "markdown",
   "id": "da57950b",
   "metadata": {},
   "source": [
    "QUE 17) The . character normally matches any character except the newline character. If re.DOTALL is passed as the second argument to re.compile(), then the dot will also match newline characters."
   ]
  },
  {
   "cell_type": "markdown",
   "id": "74db3a68",
   "metadata": {},
   "source": [
    "QUE 18 ) 'X drummers, X pipers, five rings, X hens'"
   ]
  },
  {
   "cell_type": "markdown",
   "id": "359ee747",
   "metadata": {},
   "source": [
    "QUE 19) The re.VERBOSE argument allows you to add whitespace and comments to the string passed to re.compile()"
   ]
  },
  {
   "cell_type": "markdown",
   "id": "bfc404b9",
   "metadata": {},
   "source": [
    "QUE 20) e.compile(r'^\\d{1,3}(,{3})*$') will create this regex, but other regex strings can produce a similar regular expression."
   ]
  },
  {
   "cell_type": "markdown",
   "id": "790d031d",
   "metadata": {},
   "source": [
    "QUE 21) re.compile(r'[A-Z][a-z]*\\sWatanabe')"
   ]
  },
  {
   "cell_type": "markdown",
   "id": "293169c0",
   "metadata": {},
   "source": [
    "QUE 22) re.compile(r'(Alice|Bob|Carol)\\s(eats|pets|throws)\\ s(apples|cats|baseballs)\\.', re.IGNORECASE)"
   ]
  },
  {
   "cell_type": "raw",
   "id": "c7040f89",
   "metadata": {},
   "source": []
  },
  {
   "cell_type": "raw",
   "id": "b3f68cd3",
   "metadata": {},
   "source": []
  },
  {
   "cell_type": "raw",
   "id": "1eb92e19",
   "metadata": {},
   "source": []
  },
  {
   "cell_type": "raw",
   "id": "033dae87",
   "metadata": {},
   "source": []
  }
 ],
 "metadata": {
  "kernelspec": {
   "display_name": "Python 3",
   "language": "python",
   "name": "python3"
  },
  "language_info": {
   "codemirror_mode": {
    "name": "ipython",
    "version": 3
   },
   "file_extension": ".py",
   "mimetype": "text/x-python",
   "name": "python",
   "nbconvert_exporter": "python",
   "pygments_lexer": "ipython3",
   "version": "3.8.5"
  }
 },
 "nbformat": 4,
 "nbformat_minor": 5
}
