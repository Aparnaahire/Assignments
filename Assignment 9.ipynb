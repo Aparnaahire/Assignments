{
 "cells": [
  {
   "cell_type": "markdown",
   "id": "bf5daa54",
   "metadata": {},
   "source": [
    "QUE 1) A relative path describes the location of a file relative to the current (working) directory*."
   ]
  },
  {
   "cell_type": "markdown",
   "id": "6cfb6305",
   "metadata": {},
   "source": [
    "QUE 2) An absolute path makes no assumptions about your current location in relation to the location of the file or directory it's describing. An absolute path always begins from the absolute start of your hard drive and describes every step you must take through the filesystem to end up at the target location."
   ]
  },
  {
   "cell_type": "markdown",
   "id": "d409fef5",
   "metadata": {},
   "source": [
    "QUE 3) getcwd(): CWD stands for Current Working Directory. This function allows you to see what your current working directory          is.\n",
    "       chdir(\"path-to-dir\"): Short for CHange DIRectory, this function allows you to set the current working directory to a path        of your choice."
   ]
  },
  {
   "cell_type": "markdown",
   "id": "20abfcd6",
   "metadata": {},
   "source": [
    "QUE 4) The . folder is the current folder, and .. is the parent folder."
   ]
  },
  {
   "cell_type": "markdown",
   "id": "72e47345",
   "metadata": {},
   "source": [
    "QUE 5) \\bacon\\eggs is the dir name, while spam.txt is the base name."
   ]
  },
  {
   "cell_type": "markdown",
   "id": "3d120eee",
   "metadata": {},
   "source": [
    "QUE 6) The string 'r' for read mode, 'w' for write mode, and 'a' for append mode"
   ]
  },
  {
   "cell_type": "markdown",
   "id": "b5097e4e",
   "metadata": {},
   "source": [
    "QUE 7) An existing file opened in write mode is erased and completely overwritten."
   ]
  },
  {
   "cell_type": "markdown",
   "id": "bd3f7ae0",
   "metadata": {},
   "source": [
    "QUE 8) The read() method returns the file's entire contents as a single string value. The readlines() method returns a list of strings, where each string is a line from the file's contents."
   ]
  },
  {
   "cell_type": "markdown",
   "id": "d4c1bed1",
   "metadata": {},
   "source": [
    "QUE 9) A shelf value resembles a dictionary value; it has keys and values, along with keys() and values() methods that work similarly to the dictionary methods of the same names."
   ]
  }
 ],
 "metadata": {
  "kernelspec": {
   "display_name": "Python 3",
   "language": "python",
   "name": "python3"
  },
  "language_info": {
   "codemirror_mode": {
    "name": "ipython",
    "version": 3
   },
   "file_extension": ".py",
   "mimetype": "text/x-python",
   "name": "python",
   "nbconvert_exporter": "python",
   "pygments_lexer": "ipython3",
   "version": "3.8.5"
  }
 },
 "nbformat": 4,
 "nbformat_minor": 5
}
