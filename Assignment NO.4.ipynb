{
 "cells": [
  {
   "cell_type": "markdown",
   "id": "ba0a4c92",
   "metadata": {},
   "source": [
    "Que 1)\n",
    "      Index brackets have many uses in python. First they are used to define \"list literals\", allowing you yo declare a list and its contents in your program."
   ]
  },
  {
   "cell_type": "markdown",
   "id": "3988f832",
   "metadata": {},
   "source": [
    "Que 2)\n",
    "   "
   ]
  },
  {
   "cell_type": "code",
   "execution_count": 2,
   "id": "f6ea3da3",
   "metadata": {},
   "outputs": [],
   "source": [
    "spam=[2,4,6,8,10]"
   ]
  },
  {
   "cell_type": "code",
   "execution_count": 3,
   "id": "1675d9be",
   "metadata": {},
   "outputs": [],
   "source": [
    "spam[2]=\"hello\""
   ]
  },
  {
   "cell_type": "code",
   "execution_count": 4,
   "id": "f3e66cbd",
   "metadata": {},
   "outputs": [
    {
     "data": {
      "text/plain": [
       "[2, 4, 'hello', 8, 10]"
      ]
     },
     "execution_count": 4,
     "metadata": {},
     "output_type": "execute_result"
    }
   ],
   "source": [
    "spam"
   ]
  },
  {
   "cell_type": "markdown",
   "id": "938d17d4",
   "metadata": {},
   "source": [
    "ANS : [2, 4, 'hello', 8, 10]"
   ]
  },
  {
   "cell_type": "markdown",
   "id": "ed81aac5",
   "metadata": {},
   "source": [
    "Que 3)\n",
    "     spam=['a','b','c','d ']"
   ]
  },
  {
   "cell_type": "code",
   "execution_count": 13,
   "id": "7922e020",
   "metadata": {},
   "outputs": [],
   "source": [
    "spam=['a','b','c','d']"
   ]
  },
  {
   "cell_type": "code",
   "execution_count": 14,
   "id": "31e17e28",
   "metadata": {},
   "outputs": [
    {
     "data": {
      "text/plain": [
       "'d'"
      ]
     },
     "execution_count": 14,
     "metadata": {},
     "output_type": "execute_result"
    }
   ],
   "source": [
    "spam[int(int('3'*2)/11)]"
   ]
  },
  {
   "cell_type": "code",
   "execution_count": null,
   "id": "9b54e21b",
   "metadata": {},
   "outputs": [],
   "source": [
    "ANS : \"d\""
   ]
  },
  {
   "cell_type": "markdown",
   "id": "a9d4aad1",
   "metadata": {},
   "source": [
    "Que 4)"
   ]
  },
  {
   "cell_type": "code",
   "execution_count": 15,
   "id": "91526e84",
   "metadata": {},
   "outputs": [
    {
     "data": {
      "text/plain": [
       "'d'"
      ]
     },
     "execution_count": 15,
     "metadata": {},
     "output_type": "execute_result"
    }
   ],
   "source": [
    "spam[-1]"
   ]
  },
  {
   "cell_type": "markdown",
   "id": "d288e22a",
   "metadata": {},
   "source": [
    "ANS : \"d\""
   ]
  },
  {
   "cell_type": "markdown",
   "id": "b1926e73",
   "metadata": {},
   "source": [
    "Que 5)"
   ]
  },
  {
   "cell_type": "code",
   "execution_count": 16,
   "id": "2ba5940d",
   "metadata": {},
   "outputs": [
    {
     "data": {
      "text/plain": [
       "['a', 'b']"
      ]
     },
     "execution_count": 16,
     "metadata": {},
     "output_type": "execute_result"
    }
   ],
   "source": [
    "spam[:2]"
   ]
  },
  {
   "cell_type": "markdown",
   "id": "302bd40b",
   "metadata": {},
   "source": [
    "ANS : ['a', 'b']"
   ]
  },
  {
   "cell_type": "markdown",
   "id": "821f6172",
   "metadata": {},
   "source": [
    "Que 6)"
   ]
  },
  {
   "cell_type": "code",
   "execution_count": 17,
   "id": "6cacaef4",
   "metadata": {},
   "outputs": [],
   "source": [
    "bacon=[3.14,\"cat\",11,\"cat\",True]"
   ]
  },
  {
   "cell_type": "code",
   "execution_count": 18,
   "id": "a9938b35",
   "metadata": {},
   "outputs": [
    {
     "data": {
      "text/plain": [
       "1"
      ]
     },
     "execution_count": 18,
     "metadata": {},
     "output_type": "execute_result"
    }
   ],
   "source": [
    "bacon.index(\"cat\")"
   ]
  },
  {
   "cell_type": "markdown",
   "id": "9328c9d8",
   "metadata": {},
   "source": [
    "ANS : 1"
   ]
  },
  {
   "cell_type": "markdown",
   "id": "73676181",
   "metadata": {},
   "source": [
    "Que 7)"
   ]
  },
  {
   "cell_type": "code",
   "execution_count": 19,
   "id": "862ea6b9",
   "metadata": {},
   "outputs": [],
   "source": [
    "bacon.append(99)"
   ]
  },
  {
   "cell_type": "code",
   "execution_count": 20,
   "id": "d36ddd38",
   "metadata": {},
   "outputs": [
    {
     "data": {
      "text/plain": [
       "[3.14, 'cat', 11, 'cat', True, 99]"
      ]
     },
     "execution_count": 20,
     "metadata": {},
     "output_type": "execute_result"
    }
   ],
   "source": [
    "bacon"
   ]
  },
  {
   "cell_type": "markdown",
   "id": "6dedad04",
   "metadata": {},
   "source": [
    "ANS : [3.14, 'cat', 11, 'cat', True, 99]"
   ]
  },
  {
   "cell_type": "markdown",
   "id": "2094c2bc",
   "metadata": {},
   "source": [
    "Que 8)"
   ]
  },
  {
   "cell_type": "code",
   "execution_count": 21,
   "id": "f7984260",
   "metadata": {},
   "outputs": [],
   "source": [
    "bacon=[3.14,\"cat\",11,\"cat\",True]"
   ]
  },
  {
   "cell_type": "code",
   "execution_count": 22,
   "id": "e4f715ba",
   "metadata": {},
   "outputs": [],
   "source": [
    "bacon.remove(\"cat\")"
   ]
  },
  {
   "cell_type": "code",
   "execution_count": 23,
   "id": "7743f6bc",
   "metadata": {},
   "outputs": [
    {
     "data": {
      "text/plain": [
       "[3.14, 11, 'cat', True]"
      ]
     },
     "execution_count": 23,
     "metadata": {},
     "output_type": "execute_result"
    }
   ],
   "source": [
    "bacon"
   ]
  },
  {
   "cell_type": "markdown",
   "id": "ce8b7107",
   "metadata": {},
   "source": [
    "ANS : [3.14, 11, 'cat', True]"
   ]
  },
  {
   "cell_type": "markdown",
   "id": "f32b5336",
   "metadata": {},
   "source": [
    "Que 9)\n",
    "\n",
    "The operator for list concatenation is + ,while the operator for list replication is * . "
   ]
  },
  {
   "cell_type": "markdown",
   "id": "3d14260c",
   "metadata": {},
   "source": [
    "Que 10)\n",
    "\n",
    "    append () will add values only to the end of list and insert() can add value anywhere in the list."
   ]
  },
  {
   "cell_type": "markdown",
   "id": "52efd1be",
   "metadata": {},
   "source": [
    "Que 11)\n",
    "\n",
    "    List methods clear() , pop(), and remove() to remove items from a list."
   ]
  },
  {
   "cell_type": "markdown",
   "id": "dada501f",
   "metadata": {},
   "source": [
    "Que 12)\n",
    "       The similarity between lists and strings in python is that both are sequences. Both lists and strings can be passed to len(), have indexes and slices , be used in for loops , be concatenated or replicated and be used with in and not in operators.\n",
    "       "
   ]
  },
  {
   "cell_type": "markdown",
   "id": "c7ba30b7",
   "metadata": {},
   "source": [
    "Que 13) The difference between the Tuples and list is that while the tuples are immutable objects and the list are mutable. List can have values added, removed, or changed. tuples cannot be changed at all.\n",
    "       "
   ]
  },
  {
   "cell_type": "markdown",
   "id": "1b85991b",
   "metadata": {},
   "source": [
    "Que 14)\n",
    "       (42) the trailing comma is mandatory"
   ]
  },
  {
   "cell_type": "markdown",
   "id": "d49f1acb",
   "metadata": {},
   "source": [
    "Que 15) \n",
    "       To get list value's tuple form we can use tuple() function,\n",
    "       and to get tuple value's list form we can use list() function\n",
    "       "
   ]
  },
  {
   "cell_type": "markdown",
   "id": "b941dbfe",
   "metadata": {},
   "source": [
    "Que 16) They contain references to list values.\n",
    "       "
   ]
  },
  {
   "cell_type": "markdown",
   "id": "955fdd26",
   "metadata": {},
   "source": [
    "Que 17)\n",
    "       The copy.copy() function will do a shallow copy of a list, while the copy.deepcopy() function will do a deep copy of a list . That is, only copy.deepcopy() will duplicate any lists inside the list."
   ]
  }
 ],
 "metadata": {
  "kernelspec": {
   "display_name": "Python 3 (ipykernel)",
   "language": "python",
   "name": "python3"
  },
  "language_info": {
   "codemirror_mode": {
    "name": "ipython",
    "version": 3
   },
   "file_extension": ".py",
   "mimetype": "text/x-python",
   "name": "python",
   "nbconvert_exporter": "python",
   "pygments_lexer": "ipython3",
   "version": "3.9.12"
  }
 },
 "nbformat": 4,
 "nbformat_minor": 5
}
