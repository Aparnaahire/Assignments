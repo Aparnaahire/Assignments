{
 "cells": [
  {
   "cell_type": "markdown",
   "id": "f18c881d",
   "metadata": {},
   "source": [
    "Que 1)\n",
    "\n",
    "* = Expression\n",
    "\n",
    "'hello' = value\n",
    "\n",
    "-87.8 = value\n",
    "\n",
    "- = expression\n",
    "\n",
    "/ = expression\n",
    "\n",
    "+ = expression\n",
    "\n",
    "6 = value\n"
   ]
  },
  {
   "cell_type": "markdown",
   "id": "0b62cc7a",
   "metadata": {},
   "source": [
    "Que 2)\n",
    "    \n",
    "    Variable : variable is kind of entity where you will be able to store a data which you can process in run time.\n",
    "    Strings: strings are data , so we can use them to fill up a variable."
   ]
  },
  {
   "cell_type": "markdown",
   "id": "5715416c",
   "metadata": {},
   "source": [
    "Que 3)\n",
    "\n",
    "    Three data types:\n",
    "    \n",
    "    1) string: string is combination of characters. It can be represented by single quotes or double quotes. to represent      multiline statement use triple quotes.\n",
    "    \n",
    "    2)List: list is an ordered sequence of items.It is enclosed within square brackets[]. items in a list can be of different data type. list are mutable.\n",
    "    \n",
    "    3)Tuple: tuple is another type of element which able to hold varity of data set or hetrogeneous data set inside single element. the only difference is that tuples are immutable . tuple once created cannot be modified.\n",
    "    "
   ]
  },
  {
   "cell_type": "markdown",
   "id": "058b459f",
   "metadata": {},
   "source": [
    "Que 4)\n",
    "\n",
    "     An expression is combination of operators and operands. expression are parts of statement. An expressions are constructed according to the syntax of the language, that evaluates to a single value.\n",
    "     "
   ]
  },
  {
   "cell_type": "markdown",
   "id": "add45513",
   "metadata": {},
   "source": [
    "Que 5)\n",
    "     \n",
    "     An assignment is a statement in computer programming that is used to set a value to a variable name.An expression is something that can be value. here 10 is expression, and it is assign to variable name spam so it is statement now.\n",
    "     instruction that a python interpreter can execute are called statement.\n",
    "     "
   ]
  },
  {
   "cell_type": "markdown",
   "id": "90a1faed",
   "metadata": {},
   "source": [
    "Que 6)"
   ]
  },
  {
   "cell_type": "code",
   "execution_count": 1,
   "id": "e6939dc7",
   "metadata": {},
   "outputs": [
    {
     "data": {
      "text/plain": [
       "23"
      ]
     },
     "execution_count": 1,
     "metadata": {},
     "output_type": "execute_result"
    }
   ],
   "source": [
    "bacon = 22\n",
    "bacon+1"
   ]
  },
  {
   "cell_type": "markdown",
   "id": "6ce161c1",
   "metadata": {},
   "source": [
    "Que 7)"
   ]
  },
  {
   "cell_type": "code",
   "execution_count": 2,
   "id": "b9aedf1a",
   "metadata": {},
   "outputs": [
    {
     "data": {
      "text/plain": [
       "'spamspamspam'"
      ]
     },
     "execution_count": 2,
     "metadata": {},
     "output_type": "execute_result"
    }
   ],
   "source": [
    "'spam'+'spamspam'"
   ]
  },
  {
   "cell_type": "code",
   "execution_count": 3,
   "id": "2cab7dc8",
   "metadata": {},
   "outputs": [
    {
     "data": {
      "text/plain": [
       "'spamspamspam'"
      ]
     },
     "execution_count": 3,
     "metadata": {},
     "output_type": "execute_result"
    }
   ],
   "source": [
    "'spam'*3"
   ]
  },
  {
   "cell_type": "markdown",
   "id": "2eae232d",
   "metadata": {},
   "source": [
    "Que 8)\n",
    "\n",
    "     variable is kind of a entity where you will be able to stored data. variables names starts with a letter, it cannot begin with number.\n",
    "     "
   ]
  },
  {
   "cell_type": "markdown",
   "id": "fd13ffd0",
   "metadata": {},
   "source": [
    "Que 9)\n",
    "\n",
    "      the int() function is used to get integer\n",
    "      float() function is used to get floating point number and\n",
    "      str() function is used to get string version of a value.\n",
    "      "
   ]
  },
  {
   "cell_type": "markdown",
   "id": "7b17517c",
   "metadata": {},
   "source": [
    "Que 10) we can perform this operation with string to string only . not with string to integer."
   ]
  },
  {
   "cell_type": "code",
   "execution_count": 6,
   "id": "85d96814",
   "metadata": {},
   "outputs": [
    {
     "data": {
      "text/plain": [
       "'I have eaten 99 burritos'"
      ]
     },
     "execution_count": 6,
     "metadata": {},
     "output_type": "execute_result"
    }
   ],
   "source": [
    "'I have eaten '+ '99'+ ' burritos'"
   ]
  }
 ],
 "metadata": {
  "kernelspec": {
   "display_name": "Python 3 (ipykernel)",
   "language": "python",
   "name": "python3"
  },
  "language_info": {
   "codemirror_mode": {
    "name": "ipython",
    "version": 3
   },
   "file_extension": ".py",
   "mimetype": "text/x-python",
   "name": "python",
   "nbconvert_exporter": "python",
   "pygments_lexer": "ipython3",
   "version": "3.9.12"
  }
 },
 "nbformat": 4,
 "nbformat_minor": 5
}
