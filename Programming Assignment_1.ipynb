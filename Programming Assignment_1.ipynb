{
 "cells": [
  {
   "cell_type": "markdown",
   "id": "26b3e56f",
   "metadata": {},
   "source": [
    "QUE 1) "
   ]
  },
  {
   "cell_type": "code",
   "execution_count": 1,
   "id": "4d58be9d",
   "metadata": {},
   "outputs": [
    {
     "name": "stdout",
     "output_type": "stream",
     "text": [
      "Hello Python\n"
     ]
    }
   ],
   "source": [
    "print('Hello Python')"
   ]
  },
  {
   "cell_type": "markdown",
   "id": "67fd1341",
   "metadata": {},
   "source": [
    "QUE 2)"
   ]
  },
  {
   "cell_type": "code",
   "execution_count": 2,
   "id": "ae98edde",
   "metadata": {},
   "outputs": [
    {
     "name": "stdout",
     "output_type": "stream",
     "text": [
      "Enter First Number : 12\n",
      "Enter Second Number : 6\n",
      "Addition of 12.0 and 6.0 is 18.0\n",
      "Divison of 12.0 by 6.0 is 2.0\n"
     ]
    }
   ],
   "source": [
    "a = float(input(\"Enter First Number : \"))\n",
    "b = float(input(\"Enter Second Number : \"))\n",
    "c = a + b\n",
    "d = a / b\n",
    "print(f\"Addition of {a} and {b} is {c}\\nDivison of {a} by {b} is {d}\") "
   ]
  },
  {
   "cell_type": "markdown",
   "id": "7ae6e00b",
   "metadata": {},
   "source": [
    "QUE 3) "
   ]
  },
  {
   "cell_type": "code",
   "execution_count": 3,
   "id": "6026f4fe",
   "metadata": {},
   "outputs": [
    {
     "name": "stdout",
     "output_type": "stream",
     "text": [
      "Enter height of Triangle : 3\n",
      "Enter base of Triangle : 5\n",
      "Area of Triangle is 7.5\n"
     ]
    }
   ],
   "source": [
    " h = int(input(\"Enter height of Triangle : \"))\n",
    " b = int(input(\"Enter base of Triangle : \"))\n",
    " a= 0.5 * b * h\n",
    " print(f\"Area of Triangle is {a}\")"
   ]
  },
  {
   "cell_type": "markdown",
   "id": "7cdbca33",
   "metadata": {},
   "source": [
    "QUE 4)"
   ]
  },
  {
   "cell_type": "code",
   "execution_count": 4,
   "id": "3569faa1",
   "metadata": {},
   "outputs": [
    {
     "name": "stdout",
     "output_type": "stream",
     "text": [
      "Enter First Number: 50\n",
      "Enter Second Number: 70\n",
      "Before swapping ->  50 70\n",
      "After swapping ->  70 50\n"
     ]
    }
   ],
   "source": [
    "num_1 = int(input(\"Enter First Number: \"))\n",
    "num_2 = int(input(\"Enter Second Number: \"))\n",
    "\n",
    "def swapNumbers(a,b):\n",
    "    temp = a\n",
    "    a = b\n",
    "    b = temp\n",
    "    return a,b\n",
    "\n",
    "print('Before swapping -> ',num_1, num_2)\n",
    "num_1, num_2 = swapNumbers(num_1, num_2)\n",
    "print('After swapping -> ',num_1,num_2)\n"
   ]
  },
  {
   "cell_type": "markdown",
   "id": "5ffbf35f",
   "metadata": {},
   "source": [
    "QUE 5)"
   ]
  },
  {
   "cell_type": "code",
   "execution_count": 5,
   "id": "d83de888",
   "metadata": {},
   "outputs": [
    {
     "name": "stdout",
     "output_type": "stream",
     "text": [
      "16\n"
     ]
    }
   ],
   "source": [
    "import random\n",
    "\n",
    "print(random.randint(0,100))"
   ]
  },
  {
   "cell_type": "code",
   "execution_count": null,
   "id": "133728eb",
   "metadata": {},
   "outputs": [],
   "source": []
  }
 ],
 "metadata": {
  "kernelspec": {
   "display_name": "Python 3",
   "language": "python",
   "name": "python3"
  },
  "language_info": {
   "codemirror_mode": {
    "name": "ipython",
    "version": 3
   },
   "file_extension": ".py",
   "mimetype": "text/x-python",
   "name": "python",
   "nbconvert_exporter": "python",
   "pygments_lexer": "ipython3",
   "version": "3.8.5"
  }
 },
 "nbformat": 4,
 "nbformat_minor": 5
}
