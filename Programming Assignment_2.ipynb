{
 "cells": [
  {
   "cell_type": "markdown",
   "id": "5b5d673b",
   "metadata": {},
   "source": [
    "QUE 1)"
   ]
  },
  {
   "cell_type": "code",
   "execution_count": 4,
   "id": "8cdde8b7",
   "metadata": {},
   "outputs": [
    {
     "name": "stdout",
     "output_type": "stream",
     "text": [
      "Enter Distance in Kilometers : 5\n",
      "5.0 Kilometer is equivalent to 3.12185 in miles.\n"
     ]
    }
   ],
   "source": [
    "km = float(input(\"Enter Distance in Kilometers : \"))\n",
    "\n",
    "m = 0.62437 * km\n",
    "print(f\"{km} Kilometer is equivalent to {m} in miles.\")"
   ]
  },
  {
   "cell_type": "markdown",
   "id": "c71ecfae",
   "metadata": {},
   "source": [
    "QUE 2)"
   ]
  },
  {
   "cell_type": "code",
   "execution_count": 5,
   "id": "4cf653a0",
   "metadata": {},
   "outputs": [
    {
     "name": "stdout",
     "output_type": "stream",
     "text": [
      "Enter the Temperature in Celsius : 35\n",
      "35 Celsius is 95.0 in Farhrenheit.\n"
     ]
    }
   ],
   "source": [
    "c = int(input(\"Enter the Temperature in Celsius : \"))\n",
    "\n",
    "f= (c *( 9/5) + 32 )\n",
    "\n",
    "print(f\"{c} Celsius is {f} in Farhrenheit.\")"
   ]
  },
  {
   "cell_type": "markdown",
   "id": "c2d7a43f",
   "metadata": {},
   "source": [
    "QUE 3)"
   ]
  },
  {
   "cell_type": "code",
   "execution_count": 6,
   "id": "d4c3f89e",
   "metadata": {},
   "outputs": [
    {
     "name": "stdout",
     "output_type": "stream",
     "text": [
      "Enter year: 1998\n",
      "Enter month: 12\n",
      "   December 1998\n",
      "Mo Tu We Th Fr Sa Su\n",
      "    1  2  3  4  5  6\n",
      " 7  8  9 10 11 12 13\n",
      "14 15 16 17 18 19 20\n",
      "21 22 23 24 25 26 27\n",
      "28 29 30 31\n",
      "\n"
     ]
    }
   ],
   "source": [
    "# This is monthwise Calender\n",
    "import calendar\n",
    "yy = int(input(\"Enter year: \"))\n",
    "mm = int(input(\"Enter month: \"))      \n",
    "print(calendar.month(yy, mm))"
   ]
  },
  {
   "cell_type": "code",
   "execution_count": 7,
   "id": "91a9c407",
   "metadata": {},
   "outputs": [
    {
     "name": "stdout",
     "output_type": "stream",
     "text": [
      "Enter year: 2012\n",
      "                                  2012\n",
      "\n",
      "      January                   February                   March\n",
      "Mo Tu We Th Fr Sa Su      Mo Tu We Th Fr Sa Su      Mo Tu We Th Fr Sa Su\n",
      "                   1             1  2  3  4  5                1  2  3  4\n",
      " 2  3  4  5  6  7  8       6  7  8  9 10 11 12       5  6  7  8  9 10 11\n",
      " 9 10 11 12 13 14 15      13 14 15 16 17 18 19      12 13 14 15 16 17 18\n",
      "16 17 18 19 20 21 22      20 21 22 23 24 25 26      19 20 21 22 23 24 25\n",
      "23 24 25 26 27 28 29      27 28 29                  26 27 28 29 30 31\n",
      "30 31\n",
      "\n",
      "       April                      May                       June\n",
      "Mo Tu We Th Fr Sa Su      Mo Tu We Th Fr Sa Su      Mo Tu We Th Fr Sa Su\n",
      "                   1          1  2  3  4  5  6                   1  2  3\n",
      " 2  3  4  5  6  7  8       7  8  9 10 11 12 13       4  5  6  7  8  9 10\n",
      " 9 10 11 12 13 14 15      14 15 16 17 18 19 20      11 12 13 14 15 16 17\n",
      "16 17 18 19 20 21 22      21 22 23 24 25 26 27      18 19 20 21 22 23 24\n",
      "23 24 25 26 27 28 29      28 29 30 31               25 26 27 28 29 30\n",
      "30\n",
      "\n",
      "        July                     August                  September\n",
      "Mo Tu We Th Fr Sa Su      Mo Tu We Th Fr Sa Su      Mo Tu We Th Fr Sa Su\n",
      "                   1             1  2  3  4  5                      1  2\n",
      " 2  3  4  5  6  7  8       6  7  8  9 10 11 12       3  4  5  6  7  8  9\n",
      " 9 10 11 12 13 14 15      13 14 15 16 17 18 19      10 11 12 13 14 15 16\n",
      "16 17 18 19 20 21 22      20 21 22 23 24 25 26      17 18 19 20 21 22 23\n",
      "23 24 25 26 27 28 29      27 28 29 30 31            24 25 26 27 28 29 30\n",
      "30 31\n",
      "\n",
      "      October                   November                  December\n",
      "Mo Tu We Th Fr Sa Su      Mo Tu We Th Fr Sa Su      Mo Tu We Th Fr Sa Su\n",
      " 1  2  3  4  5  6  7                1  2  3  4                      1  2\n",
      " 8  9 10 11 12 13 14       5  6  7  8  9 10 11       3  4  5  6  7  8  9\n",
      "15 16 17 18 19 20 21      12 13 14 15 16 17 18      10 11 12 13 14 15 16\n",
      "22 23 24 25 26 27 28      19 20 21 22 23 24 25      17 18 19 20 21 22 23\n",
      "29 30 31                  26 27 28 29 30            24 25 26 27 28 29 30\n",
      "                                                    31\n",
      "\n"
     ]
    }
   ],
   "source": [
    "# This is yearwise Calender\n",
    "import calendar\n",
    "yy = int(input(\"Enter year: \"))\n",
    "print(calendar.calendar(yy))"
   ]
  },
  {
   "cell_type": "markdown",
   "id": "732e8d84",
   "metadata": {},
   "source": [
    "QUE 4)"
   ]
  },
  {
   "cell_type": "code",
   "execution_count": 8,
   "id": "f6368dea",
   "metadata": {},
   "outputs": [
    {
     "name": "stdout",
     "output_type": "stream",
     "text": [
      "Your Expression is in format aX^2 + bX + c = 0 & a not equal to 0 \n",
      "Enter the value of a 1\n",
      "Enter the value of b -1\n",
      "Enter the value of c 1\n",
      "Roots are Complex\n",
      "Solutions are (1-0.8660254037844386j) and (1+0.8660254037844386j)\n"
     ]
    }
   ],
   "source": [
    "import cmath\n",
    "print(\"Your Expression is in format aX^2 + bX + c = 0 & a not equal to 0 \")\n",
    "a = int(input(\"Enter the value of a \"))\n",
    "b = int(input(\"Enter the value of b \"))\n",
    "c = int(input(\"Enter the value of c \"))\n",
    "d = (b**2) - 4*a*c\n",
    "\n",
    "if d > 0 :\n",
    "  print(\"Roots are Real and Unequal\")\n",
    "  sol1 = ((-b - cmath.sqrt(d) / 2* a))\n",
    "  sol2 = ((-b + cmath.sqrt(d) / 2* a))\n",
    "  print(f\"Solutions are {sol1} and {sol2}\")\n",
    "elif d == 0 :\n",
    "  print(\"Roots are Real and Equal\")\n",
    "  sol1 = ((-b - cmath.sqrt(d) / 2* a))\n",
    "  sol2 = ((-b + cmath.sqrt(d) / 2* a))\n",
    "  print(f\"Solutions are {sol1} and {sol2}\")\n",
    "else:\n",
    "  print(\"Roots are Complex\")\n",
    "  sol1 = ((-b - cmath.sqrt(d) / 2* a))\n",
    "  sol2 = ((-b + cmath.sqrt(d) / 2* a))\n",
    "  print(f\"Solutions are {sol1} and {sol2}\")\n"
   ]
  },
  {
   "cell_type": "markdown",
   "id": "6a88678a",
   "metadata": {},
   "source": [
    "QUE 5)"
   ]
  },
  {
   "cell_type": "code",
   "execution_count": 9,
   "id": "0ba30073",
   "metadata": {},
   "outputs": [
    {
     "name": "stdout",
     "output_type": "stream",
     "text": [
      "a =50\n",
      "b =70\n",
      "Numbers before swap a=50 and b=70\n",
      "Numbers after swap a=70 and b=50\n"
     ]
    }
   ],
   "source": [
    "a = int(input(\"a =\"))\n",
    "b = int(input(\"b =\"))\n",
    "print(f\"Numbers before swap a={a} and b={b}\")\n",
    "a = a + b \n",
    "b = a - b\n",
    "a = a - b\n",
    "print(f\"Numbers after swap a={a} and b={b}\")\n"
   ]
  },
  {
   "cell_type": "code",
   "execution_count": null,
   "id": "725b7fd4",
   "metadata": {},
   "outputs": [],
   "source": []
  }
 ],
 "metadata": {
  "kernelspec": {
   "display_name": "Python 3",
   "language": "python",
   "name": "python3"
  },
  "language_info": {
   "codemirror_mode": {
    "name": "ipython",
    "version": 3
   },
   "file_extension": ".py",
   "mimetype": "text/x-python",
   "name": "python",
   "nbconvert_exporter": "python",
   "pygments_lexer": "ipython3",
   "version": "3.8.5"
  }
 },
 "nbformat": 4,
 "nbformat_minor": 5
}
