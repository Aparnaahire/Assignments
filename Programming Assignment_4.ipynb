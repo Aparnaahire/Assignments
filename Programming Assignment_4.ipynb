{
 "cells": [
  {
   "cell_type": "markdown",
   "id": "fc3fdf31",
   "metadata": {},
   "source": [
    "QUE 1)"
   ]
  },
  {
   "cell_type": "code",
   "execution_count": 1,
   "id": "24038d6e",
   "metadata": {},
   "outputs": [
    {
     "name": "stdout",
     "output_type": "stream",
     "text": [
      "Enter the number 5\n",
      "Factorial of 5 is 120\n"
     ]
    }
   ],
   "source": [
    "n = int(input(\"Enter the number \"))\n",
    "a = 1\n",
    "if n < 0:\n",
    "  print(\"factorial does not exist\")\n",
    "elif n == 0:\n",
    "  print(f\"Factorial of {n} is 1\")\n",
    "else:\n",
    "  for i in range (1,n+1):\n",
    "      a = a * i\n",
    "  print(f\"Factorial of {n} is {a}\")\n"
   ]
  },
  {
   "cell_type": "markdown",
   "id": "6a0abd5e",
   "metadata": {},
   "source": [
    "QUE 2"
   ]
  },
  {
   "cell_type": "code",
   "execution_count": 3,
   "id": "8055e879",
   "metadata": {},
   "outputs": [
    {
     "name": "stdout",
     "output_type": "stream",
     "text": [
      "Multiplication table of8\n",
      "\t\n",
      "8X1=8\n",
      "8X2=16\n",
      "8X3=24\n",
      "8X4=32\n",
      "8X5=40\n",
      "8X6=48\n",
      "8X7=56\n",
      "8X8=64\n",
      "8X9=72\n",
      "8X10=80\n"
     ]
    }
   ],
   "source": [
    "a= int(input('Multiplication table of'))\n",
    "print(\"\\t\")\n",
    "for i in range (1,11):\n",
    "    b=a*i\n",
    "    print(f\"{a}X{i}={b}\")"
   ]
  },
  {
   "cell_type": "markdown",
   "id": "1841c5b8",
   "metadata": {},
   "source": [
    "QUE 3)"
   ]
  },
  {
   "cell_type": "code",
   "execution_count": 6,
   "id": "2be40039",
   "metadata": {},
   "outputs": [
    {
     "name": "stdout",
     "output_type": "stream",
     "text": [
      "How many terms you want 8\n",
      "0 1 1 2 3 5 8 13 "
     ]
    }
   ],
   "source": [
    "n = int(input(\"How many terms you want \"))\n",
    "# fibonacci series 0 1 1 2 3 5 8 13\n",
    "f= 0\n",
    "s = 1\n",
    "if n == 1:\n",
    "  print(f)\n",
    "elif n ==2:\n",
    "  print(f,s)\n",
    "else:\n",
    "  print(f,s,end=\" \")\n",
    "  for i in range(2,n):\n",
    "    c = f + s \n",
    "    print(c,end=\" \")\n",
    "    f = s\n",
    "    s = c"
   ]
  },
  {
   "cell_type": "markdown",
   "id": "3cacab21",
   "metadata": {},
   "source": [
    "QUE 4)"
   ]
  },
  {
   "cell_type": "code",
   "execution_count": 8,
   "id": "913221d3",
   "metadata": {},
   "outputs": [
    {
     "name": "stdout",
     "output_type": "stream",
     "text": [
      "Enter a number: 1234\n",
      "1234 is not an Armstrong number\n"
     ]
    }
   ],
   "source": [
    "n = int(input(\"Enter a number: \"))\n",
    "t = n\n",
    "sum = 0\n",
    "a = len(str(n))\n",
    "\n",
    "while t > 0:\n",
    "   digit = t % 10\n",
    "   sum = sum +(digit ** a)\n",
    "   t = t // 10\n",
    "\n",
    "if n == sum:\n",
    "   print(n,\"is an Armstrong number\")\n",
    "else:\n",
    "   print(n,\"is not an Armstrong number\")"
   ]
  },
  {
   "cell_type": "markdown",
   "id": "31b121af",
   "metadata": {},
   "source": [
    "QUE 5)"
   ]
  },
  {
   "cell_type": "code",
   "execution_count": 9,
   "id": "4efc76b5",
   "metadata": {},
   "outputs": [
    {
     "name": "stdout",
     "output_type": "stream",
     "text": [
      "Enter the lower range 100\n",
      "Enter the upper range 5000\n",
      "Following numbers are armstrong number in interval 100 and 5000\n",
      "[153, 370, 371, 407, 1634]\n"
     ]
    }
   ],
   "source": [
    "low = int(input(\"Enter the lower range \"))\n",
    "hi = int(input(\"Enter the upper range \"))\n",
    "arm = list()\n",
    "for n in range(low,hi+1):\n",
    "  t = n\n",
    "  sum = 0\n",
    "  a = len(str(n))\n",
    "  while t > 0:\n",
    "    digit = t % 10\n",
    "    sum = sum +(digit ** a)\n",
    "    t = t // 10\n",
    "  if n == sum:\n",
    "   arm.append(n)\n",
    "print(\"Following numbers are armstrong number in interval\",low,\"and\",hi,)\n",
    "print(arm)"
   ]
  },
  {
   "cell_type": "markdown",
   "id": "fa76d3b6",
   "metadata": {},
   "source": [
    "QUE 6)"
   ]
  },
  {
   "cell_type": "code",
   "execution_count": 10,
   "id": "5480840f",
   "metadata": {},
   "outputs": [
    {
     "name": "stdout",
     "output_type": "stream",
     "text": [
      "Sum of Numbers upto which number 4\n",
      "Sum of first 4 natural number is 10.0\n"
     ]
    }
   ],
   "source": [
    "num = int(input(\"Sum of Numbers upto which number \"))\n",
    "a = ((num*(num+1))*0.5)\n",
    "print(f\"Sum of first {num} natural number is {a}\")\n"
   ]
  },
  {
   "cell_type": "code",
   "execution_count": null,
   "id": "d924f246",
   "metadata": {},
   "outputs": [],
   "source": []
  }
 ],
 "metadata": {
  "kernelspec": {
   "display_name": "Python 3",
   "language": "python",
   "name": "python3"
  },
  "language_info": {
   "codemirror_mode": {
    "name": "ipython",
    "version": 3
   },
   "file_extension": ".py",
   "mimetype": "text/x-python",
   "name": "python",
   "nbconvert_exporter": "python",
   "pygments_lexer": "ipython3",
   "version": "3.8.5"
  }
 },
 "nbformat": 4,
 "nbformat_minor": 5
}
