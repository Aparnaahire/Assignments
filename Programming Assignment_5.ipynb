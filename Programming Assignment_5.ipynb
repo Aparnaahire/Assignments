{
 "cells": [
  {
   "cell_type": "markdown",
   "id": "5bfee052",
   "metadata": {},
   "source": [
    "QUE 1)"
   ]
  },
  {
   "cell_type": "code",
   "execution_count": 1,
   "id": "ff7bd00b",
   "metadata": {},
   "outputs": [
    {
     "name": "stdout",
     "output_type": "stream",
     "text": [
      "Enter num1 : 5\n",
      "Enter num2 : 7\n",
      "The LCM of 5 and 7 is 35\n"
     ]
    }
   ],
   "source": [
    "x = int(input(\"Enter num1 : \"))\n",
    "y = int(input(\"Enter num2 : \"))\n",
    "\n",
    "# big no.\n",
    "if x > y:\n",
    "    big = x\n",
    "else:\n",
    "    big = y\n",
    "    \n",
    "while(True):\n",
    "    if big % x == 0 and big % y == 0 :\n",
    "        lcm = big\n",
    "        break\n",
    "    big+=1\n",
    "    \n",
    "print(\"The LCM of {} and {} is {}\".format(x,y,lcm))"
   ]
  },
  {
   "cell_type": "markdown",
   "id": "e1c3ad1f",
   "metadata": {},
   "source": [
    "QUE 2)"
   ]
  },
  {
   "cell_type": "code",
   "execution_count": 2,
   "id": "6225ca0e",
   "metadata": {},
   "outputs": [
    {
     "name": "stdout",
     "output_type": "stream",
     "text": [
      "Enter num1 : 5\n",
      "Enter num2 : 8\n",
      "The hcf of 5 and 8 is 1\n"
     ]
    }
   ],
   "source": [
    "x = int(input(\"Enter num1 : \"))\n",
    "y = int(input(\"Enter num2 : \"))\n",
    "\n",
    "# big no\n",
    "if x < y:\n",
    "    small = x\n",
    "else:\n",
    "    small = y\n",
    "hcf = 0   \n",
    "for i in range(1,small+1):\n",
    "    if x % i == 0 and y % i == 0 :\n",
    "        hcf = i\n",
    "    \n",
    "print(\"The hcf of {} and {} is {}\".format(x,y,hcf))"
   ]
  },
  {
   "cell_type": "markdown",
   "id": "29e05806",
   "metadata": {},
   "source": [
    "QUE 3)"
   ]
  },
  {
   "cell_type": "code",
   "execution_count": 3,
   "id": "8cc0858d",
   "metadata": {},
   "outputs": [
    {
     "name": "stdout",
     "output_type": "stream",
     "text": [
      "Enter number :44\n",
      "44 in binary :  0b101100\n",
      "44 in Octal :  0o54\n",
      "44 in Hexadecimal :  0x2c\n"
     ]
    }
   ],
   "source": [
    "x=int(input(\"Enter number :\"))\n",
    "\n",
    "print(x, \"in binary : \", bin(x))\n",
    "print(x, \"in Octal : \", oct(x))\n",
    "print(x, \"in Hexadecimal : \",hex(x))"
   ]
  },
  {
   "cell_type": "markdown",
   "id": "7184503d",
   "metadata": {},
   "source": [
    "QUE 4)"
   ]
  },
  {
   "cell_type": "code",
   "execution_count": 4,
   "id": "1fb6e0ea",
   "metadata": {},
   "outputs": [
    {
     "name": "stdout",
     "output_type": "stream",
     "text": [
      "Enter a Charecter : @\n",
      "Ascii value of @ is 64\n"
     ]
    }
   ],
   "source": [
    "str = input(\"Enter a Charecter : \")\n",
    "# ord gives the ASCII value of a character\n",
    "print(\"Ascii value of {} is {}\".format(str,ord(str)))"
   ]
  },
  {
   "cell_type": "markdown",
   "id": "2e864865",
   "metadata": {},
   "source": [
    "QUE 5)"
   ]
  },
  {
   "cell_type": "code",
   "execution_count": 5,
   "id": "53aa6e54",
   "metadata": {},
   "outputs": [
    {
     "name": "stdout",
     "output_type": "stream",
     "text": [
      "Enter num1 :7\n",
      "Enter num2 :4\n",
      "Enter + to add : \n",
      "Enter - to Sub :\n",
      "Enter * to multi :\n",
      "Enter / to div : +\n",
      "7.0 + 4.0 = 11.0\n"
     ]
    }
   ],
   "source": [
    "x = float(input(\"Enter num1 :\"))\n",
    "y = float(input(\"Enter num2 :\"))\n",
    "\n",
    "op = input(\"Enter + to add : \\nEnter - to Sub :\\nEnter * to multi :\\nEnter / to div : \") \n",
    "\n",
    "add = x + y\n",
    "sub = x - y\n",
    "mul = x * y\n",
    "\n",
    "\n",
    "if op == \"+\":\n",
    "    print(\"{} + {} = {}\".format(x,y,add))\n",
    "elif op == \"-\":\n",
    "    print(\"{} - {} = {}\".format(x,y,sub))\n",
    "elif op == \"*\":\n",
    "    print(\"{} * {} = {}\".format(x,y,mul))\n",
    "elif op == \"/\":\n",
    "    if num1 == 0 or num2 == 0:\n",
    "        print(\"Division with zero is not possible\")\n",
    "    else:\n",
    "        div = x / y\n",
    "        print(\"{} / {} = {}\".format(x,y,div))\n",
    "else:\n",
    "    print(\"Invalid input\")"
   ]
  },
  {
   "cell_type": "code",
   "execution_count": null,
   "id": "7509df4a",
   "metadata": {},
   "outputs": [],
   "source": []
  }
 ],
 "metadata": {
  "kernelspec": {
   "display_name": "Python 3",
   "language": "python",
   "name": "python3"
  },
  "language_info": {
   "codemirror_mode": {
    "name": "ipython",
    "version": 3
   },
   "file_extension": ".py",
   "mimetype": "text/x-python",
   "name": "python",
   "nbconvert_exporter": "python",
   "pygments_lexer": "ipython3",
   "version": "3.8.5"
  }
 },
 "nbformat": 4,
 "nbformat_minor": 5
}
